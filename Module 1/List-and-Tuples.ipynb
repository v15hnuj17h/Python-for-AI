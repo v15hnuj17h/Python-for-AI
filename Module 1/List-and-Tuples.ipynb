{
 "cells": [
  {
   "cell_type": "code",
   "execution_count": 2,
   "id": "ab3720b7",
   "metadata": {},
   "outputs": [
    {
     "data": {
      "text/plain": [
       "[1, 2, 3, 4, 5]"
      ]
     },
     "execution_count": 2,
     "metadata": {},
     "output_type": "execute_result"
    }
   ],
   "source": [
    "# A list is a data structure in Python that allows you to store an ordered collection of items.\n",
    "# Items can be of different data types (e.g., integers, strings, floats).\n",
    "# Lists are mutable, meaning their contents can be changed.\n",
    "\n",
    "my_list = [1,2,3,4,5]\n",
    "my_list"
   ]
  },
  {
   "cell_type": "code",
   "execution_count": 3,
   "id": "e3011f15",
   "metadata": {},
   "outputs": [
    {
     "name": "stdout",
     "output_type": "stream",
     "text": [
      "Empty List: []\n",
      "Integer List: [1, 2, 3, 4, 5]\n",
      "String List: ['apple', 'banana', 'cherry']\n",
      "Mixed List: [1, 'hello', 3.14, True]\n"
     ]
    }
   ],
   "source": [
    "# Empty list\n",
    "empty_list = []\n",
    "print(\"Empty List:\", empty_list)\n",
    "\n",
    "# List of integers\n",
    "int_list = [1, 2, 3, 4, 5]\n",
    "print(\"Integer List:\", int_list)\n",
    "\n",
    "# List of strings\n",
    "string_list = [\"apple\", \"banana\", \"cherry\"]\n",
    "print(\"String List:\", string_list)\n",
    "\n",
    "# Mixed data types\n",
    "mixed_list = [1, \"hello\", 3.14, True]\n",
    "print(\"Mixed List:\", mixed_list)"
   ]
  },
  {
   "cell_type": "code",
   "execution_count": 4,
   "id": "2da6c6b5",
   "metadata": {},
   "outputs": [
    {
     "name": "stdout",
     "output_type": "stream",
     "text": [
      "First element: apple\n",
      "Last element: cherry\n",
      "First two elements: ['apple', 'banana']\n"
     ]
    }
   ],
   "source": [
    "# Acessing a list\n",
    "\n",
    "# Example list\n",
    "fruits = [\"apple\", \"banana\", \"cherry\"]\n",
    "\n",
    "# Access first element\n",
    "print(\"First element:\", fruits[0])\n",
    "\n",
    "# Access last element\n",
    "print(\"Last element:\", fruits[-1])\n",
    "\n",
    "# Access a range of elements\n",
    "print(\"First two elements:\", fruits[:2])"
   ]
  },
  {
   "cell_type": "code",
   "execution_count": null,
   "id": "f5a1b9dd",
   "metadata": {},
   "outputs": [
    {
     "name": "stdout",
     "output_type": "stream",
     "text": [
      "List: [6, 5, 4, 3, 2, 1]\n",
      "List after appending: [6, 5, 4, 3, 2, 1, 0]\n",
      "List after insertion: [7, 6, 5, 4, 3, 2, 1, 0]\n",
      "List after removing: [6, 5, 4, 3, 2, 1, 0]\n",
      "List after popping: [6, 5, 4, 3, 2, 1]\n"
     ]
    }
   ],
   "source": [
    "# List Modification\n",
    "\n",
    "list = [6,5,4,3,2,1]\n",
    "print(\"List:\",list)\n",
    "\n",
    "list.append(0)\n",
    "print(\"List after appending:\",list)\n",
    "\n",
    "list.insert(0,7)\n",
    "print(\"List after insertion:\",list)\n",
    "\n",
    "list.remove(7)\n",
    "print(\"List after removing:\",list)\n",
    "\n",
    "list.pop()\n",
    "print(\"List after popping:\",list)"
   ]
  },
  {
   "cell_type": "code",
   "execution_count": null,
   "id": "cbed16d0",
   "metadata": {},
   "outputs": [
    {
     "name": "stdout",
     "output_type": "stream",
     "text": [
      "Length os list is 3\n",
      "True\n",
      "Concatinated list: ['a', 'b', 'c', 1, 2, 3]\n",
      "['a', 'b', 'c', 1, 2, 3, 'a', 'b', 'c', 1, 2, 3, 'a', 'b', 'c', 1, 2, 3]\n",
      "a\n",
      "b\n",
      "c\n"
     ]
    }
   ],
   "source": [
    "# List operation \n",
    "\n",
    "list = [\"a\",\"b\",\"c\"]\n",
    "\n",
    "print(\"Length os list is\",len(list))\n",
    "\n",
    "print(\"a\" in list)\n",
    "\n",
    "list2 = [1,2,3]\n",
    "concatinated = list + list2\n",
    "print(\"Concatinated list:\",concatinated)\n",
    "\n",
    "print(concatinated*3)\n",
    "\n",
    "for x in concatinated[:3]: #iteration\n",
    "    print(x)\n"
   ]
  },
  {
   "cell_type": "code",
   "execution_count": 23,
   "id": "4f910939",
   "metadata": {},
   "outputs": [
    {
     "name": "stdout",
     "output_type": "stream",
     "text": [
      "[[1, 2, 3], [4, 5, 6], [7, 8, 9]]\n",
      "First row---- [1, 2, 3]\n",
      "Element at (2,2)---- 5\n"
     ]
    }
   ],
   "source": [
    "# Nested List\n",
    "\n",
    "matrix = [[1,2,3],[4,5,6],[7,8,9]]\n",
    "print(matrix)\n",
    "\n",
    "#First row\n",
    "print(\"First row----\",matrix[0])\n",
    "\n",
    "#Element at (2,2)\n",
    "print(\"Element at (2,2)----\",matrix[1][1])"
   ]
  },
  {
   "cell_type": "code",
   "execution_count": 31,
   "id": "019f4029",
   "metadata": {},
   "outputs": [
    {
     "name": "stdout",
     "output_type": "stream",
     "text": [
      "[0, 2, 2, 4, 4, 5, 7]\n",
      "[7, 5, 4, 4, 2, 2, 0]\n"
     ]
    }
   ],
   "source": [
    "a = [4,2,7,5,4,2,0]\n",
    "a.sort()\n",
    "print(a)\n",
    "a.reverse()\n",
    "print(a)"
   ]
  },
  {
   "cell_type": "code",
   "execution_count": 2,
   "id": "556f72bd",
   "metadata": {},
   "outputs": [
    {
     "name": "stdout",
     "output_type": "stream",
     "text": [
      "Sorted list: [10, 20, 30, 40, 50]\n",
      "Sum: 150\n",
      "Mean: 30.0\n",
      "Maximum: 50\n",
      "Minimum: 10\n"
     ]
    }
   ],
   "source": [
    "# Example list\n",
    "numbers = [50, 20, 10, 40, 30]\n",
    "\n",
    "# Sorting of a list\n",
    "sort = sorted(numbers)\n",
    "print(\"Sorted list:\",sort)\n",
    "\n",
    "# Sum of the list\n",
    "total_sum = sum(numbers)\n",
    "print(\"Sum:\", total_sum)\n",
    "\n",
    "# Mean of the list\n",
    "mean = total_sum / len(numbers) # Calculate mean manually\n",
    "print(\"Mean:\", mean)\n",
    "\n",
    "# Maximum value in the list\n",
    "maximum = max(numbers)\n",
    "print(\"Maximum:\", maximum)\n",
    "\n",
    "# Minimum value in the list\n",
    "minimum = min(numbers)\n",
    "print(\"Minimum:\", minimum)"
   ]
  },
  {
   "cell_type": "code",
   "execution_count": null,
   "id": "9306e7f3",
   "metadata": {},
   "outputs": [
    {
     "name": "stdout",
     "output_type": "stream",
     "text": [
      "After append: [1, 2, 3, [4, 5]]\n",
      "After extend: [1, 2, 3, 4, 5]\n"
     ]
    }
   ],
   "source": [
    "# Append with a tuple\n",
    "list1 = [1, 2, 3]\n",
    "list1.append([4, 5])\n",
    "print(\"After append:\", list1) # Output: [1, 2, 3, [4, 5]]\n",
    "\n",
    "# Extend with a tuple\n",
    "list2 = [1, 2, 3]\n",
    "list2.extend([4, 5])\n",
    "print(\"After extend:\", list2) # Output: [1, 2, 3, 4, 5]"
   ]
  },
  {
   "cell_type": "code",
   "execution_count": 2,
   "id": "3cb492f0",
   "metadata": {},
   "outputs": [
    {
     "name": "stdout",
     "output_type": "stream",
     "text": [
      "After append: [1, 2, 3, 'abc']\n",
      "After extend: [1, 2, 3, 'a', 'b', 'c']\n"
     ]
    }
   ],
   "source": [
    "# Append with a string\n",
    "list1 = [1, 2, 3]\n",
    "list1.append(\"abc\")\n",
    "print(\"After append:\", list1) # Output: [1, 2, 3, 'abc']\n",
    "\n",
    "# Extend with a string\n",
    "list2 = [1, 2, 3]\n",
    "list2.extend(\"abc\")\n",
    "print(\"After extend:\", list2) # Output: [1, 2, 3, 'a', 'b', 'c']"
   ]
  },
  {
   "cell_type": "code",
   "execution_count": 3,
   "id": "7c7198be",
   "metadata": {},
   "outputs": [
    {
     "name": "stdout",
     "output_type": "stream",
     "text": [
      "Empty List: []\n",
      "Character List: ['h', 'e', 'l', 'l', 'o']\n",
      "Tuple List: [1, 2, 3]\n",
      "Range List: [0, 1, 2, 3, 4]\n"
     ]
    }
   ],
   "source": [
    "# Creating an empty list\n",
    "empty_list = list()\n",
    "\n",
    "# Converting a string into a list of characters\n",
    "char_list = list(\"hello\")\n",
    "\n",
    "# Converting a tuple into a list\n",
    "tuple_list = list((1, 2, 3))\n",
    "\n",
    "# Converting a range into a list\n",
    "range_list = list(range(5))\n",
    "\n",
    "\n",
    "print(\"Empty List:\", empty_list)\n",
    "print(\"Character List:\", char_list)\n",
    "print(\"Tuple List:\", tuple_list)\n",
    "print(\"Range List:\", range_list)"
   ]
  },
  {
   "cell_type": "code",
   "execution_count": 6,
   "id": "2ace4353",
   "metadata": {},
   "outputs": [
    {
     "name": "stdout",
     "output_type": "stream",
     "text": [
      "List Created Using Loop: [0, 2, 4, 6, 8]\n"
     ]
    }
   ],
   "source": [
    "# Creating a list using a loop\n",
    "\n",
    "numbers = []\n",
    "for i in range(5):\n",
    "    numbers.append(i * 2)\n",
    "print(\"List Created Using Loop:\", numbers)"
   ]
  },
  {
   "cell_type": "code",
   "execution_count": 5,
   "id": "c0cc35ca",
   "metadata": {},
   "outputs": [
    {
     "name": "stdout",
     "output_type": "stream",
     "text": [
      "List of Numbers: [6, 3, 4, 2, 4]\n"
     ]
    }
   ],
   "source": [
    "# Create an empty list to store numbers\n",
    "\n",
    "numbers = []\n",
    "\n",
    "# Ask the user for the number of elements\n",
    "n = int(input(\"Enter the number of elements: \"))\n",
    "\n",
    "# Take input for each number\n",
    "for i in range(n):\n",
    "    num = int(input(f\"Enter number-{i+1}: \"))\n",
    "    numbers.append(num)\n",
    "    \n",
    "# Display the final list\n",
    "print(\"List of Numbers:\", numbers)"
   ]
  },
  {
   "cell_type": "code",
   "execution_count": 8,
   "id": "c04ed595",
   "metadata": {},
   "outputs": [
    {
     "name": "stdout",
     "output_type": "stream",
     "text": [
      "List of Numbers: [3, 6, 3, 2, 1]\n"
     ]
    }
   ],
   "source": [
    "# Take input in a single line and split into a list\n",
    "numbers = list(map(int, input(\"Enter numbers: \").split()))\n",
    "\n",
    "# Display the final list\n",
    "print(\"List of Numbers:\", numbers)"
   ]
  },
  {
   "cell_type": "code",
   "execution_count": 9,
   "id": "409fe18f",
   "metadata": {},
   "outputs": [
    {
     "name": "stdout",
     "output_type": "stream",
     "text": [
      "['40', '20', '70', '10']\n"
     ]
    }
   ],
   "source": [
    "print(\"40 20 70 10\".split())"
   ]
  },
  {
   "cell_type": "code",
   "execution_count": 14,
   "id": "995bb1ec",
   "metadata": {},
   "outputs": [
    {
     "name": "stdout",
     "output_type": "stream",
     "text": [
      "[40, 20, 70, 10]\n"
     ]
    }
   ],
   "source": [
    "arr = list(map(int,['40', '20', '70', '10']))\n",
    "print(arr)"
   ]
  },
  {
   "cell_type": "code",
   "execution_count": 15,
   "id": "2254c2dc",
   "metadata": {},
   "outputs": [
    {
     "name": "stdout",
     "output_type": "stream",
     "text": [
      "[2, 3, 4, 5, 6, 7, 8]\n",
      "[5, 6, 7, 8]\n"
     ]
    }
   ],
   "source": [
    "#Delete element\n",
    "\n",
    "L = [1,2,3,4,5,6,7,8]\n",
    "del L[0]\n",
    "print(L)\n",
    "del L[0:3]\n",
    "print(L)"
   ]
  },
  {
   "cell_type": "code",
   "execution_count": 16,
   "id": "8221d209",
   "metadata": {},
   "outputs": [
    {
     "name": "stdout",
     "output_type": "stream",
     "text": [
      "[1, 2, 3, 4]\n",
      "[1, 2, 3, 4]\n"
     ]
    }
   ],
   "source": [
    "#Sort a List\n",
    "L = [3,1,4,2]\n",
    "L.sort()\n",
    "print(L)\n",
    "K= sorted(L)\n",
    "print(K)"
   ]
  },
  {
   "cell_type": "code",
   "execution_count": 17,
   "id": "06255136",
   "metadata": {},
   "outputs": [
    {
     "data": {
      "text/plain": [
       "[10, 8, 7, 5, 2, 1]"
      ]
     },
     "execution_count": 17,
     "metadata": {},
     "output_type": "execute_result"
    }
   ],
   "source": [
    "L = [5,7,2,1,8,10]\n",
    "L.sort(reverse = True)\n",
    "L"
   ]
  },
  {
   "cell_type": "code",
   "execution_count": 19,
   "id": "80223f69",
   "metadata": {},
   "outputs": [
    {
     "name": "stdout",
     "output_type": "stream",
     "text": [
      "[3, 5, 7, 9, 6, 2, 10]\n"
     ]
    }
   ],
   "source": [
    "#Removing Duplicates from list\n",
    "\n",
    "L1 = [3, 5, 7, 9, 3, 6, 5, 2, 3, 7, 10]\n",
    "L2 = []\n",
    "for x in L1:\n",
    "    if x not in L2:\n",
    "        L2.append(x)\n",
    "print(L2)"
   ]
  },
  {
   "cell_type": "code",
   "execution_count": 20,
   "id": "bc03d244",
   "metadata": {},
   "outputs": [
    {
     "name": "stdout",
     "output_type": "stream",
     "text": [
      "[1, 4, 9, 16, 25]\n"
     ]
    }
   ],
   "source": [
    "numbers = [1, 2, 3, 4, 5]\n",
    "\n",
    "squares = [x**2 for x in numbers]\n",
    "print(squares) # Output: [1, 4, 9, 16, 25]"
   ]
  },
  {
   "cell_type": "code",
   "execution_count": 21,
   "id": "aa6803e1",
   "metadata": {},
   "outputs": [
    {
     "name": "stdout",
     "output_type": "stream",
     "text": [
      "[2, 4, 6]\n"
     ]
    }
   ],
   "source": [
    "numbers = [1, 2, 3, 4, 5, 6]\n",
    "\n",
    "evens = [x for x in numbers if x % 2 == 0]\n",
    "print(evens) # Output: [2, 4, 6]"
   ]
  },
  {
   "cell_type": "code",
   "execution_count": 28,
   "id": "040b57a4",
   "metadata": {},
   "outputs": [
    {
     "name": "stdout",
     "output_type": "stream",
     "text": [
      "[2, 6, 10]\n"
     ]
    }
   ],
   "source": [
    "numbers = [1, 2, 3, 4, 5]\n",
    "\n",
    "doubled_odds = [x * 2 for x in numbers if x % 2 != 0]\n",
    "print(doubled_odds) # Output: [2, 6, 10]"
   ]
  },
  {
   "cell_type": "code",
   "execution_count": 25,
   "id": "4d132917",
   "metadata": {},
   "outputs": [
    {
     "name": "stdout",
     "output_type": "stream",
     "text": [
      "[2, 1.0, 6, 2.0, 10]\n"
     ]
    }
   ],
   "source": [
    "numbers = [1, 2, 3, 4, 5]\n",
    "\n",
    "transformed = [x * 2 if x % 2 != 0 else x / 2 for x in numbers]\n",
    "print(transformed) # Output: [2, 1.0, 6, 2.0, 10]"
   ]
  },
  {
   "cell_type": "code",
   "execution_count": 5,
   "id": "b9841e30",
   "metadata": {},
   "outputs": [
    {
     "name": "stdout",
     "output_type": "stream",
     "text": [
      "Original tuple:  (1, 2, 3, 4, 5, 6)\n",
      "First element:  1\n",
      "Last element:  6\n",
      "Sliced tuple:  (2, 3)\n",
      "5 in tuple is True\n",
      "1 2 3 4 5 6 "
     ]
    }
   ],
   "source": [
    "tuple = (1,2,3,4,5,6)\n",
    "\n",
    "print(\"Original tuple: \",tuple)\n",
    "print(\"First element: \",tuple[0])\n",
    "print(\"Last element: \",tuple[-1])\n",
    "print(\"Sliced tuple: \",tuple[1:3])\n",
    "is_present = 5 in tuple\n",
    "print(\"5 in tuple is\",is_present)\n",
    "for num in tuple:\n",
    "    print(num,end=' ')"
   ]
  },
  {
   "cell_type": "code",
   "execution_count": null,
   "id": "9b97a344",
   "metadata": {},
   "outputs": [
    {
     "name": "stdout",
     "output_type": "stream",
     "text": [
      "  apple \n",
      " banana \n",
      " cat\n"
     ]
    }
   ],
   "source": [
    "# Unpacking a list\n",
    "\n",
    "l = [\"apple\",\"banana\",\"cat\"]\n",
    "fruit1,fruit2,animal = l\n",
    "print(fruit1,\"\\n\",fruit2,\"\\n\",animal)"
   ]
  },
  {
   "cell_type": "code",
   "execution_count": 12,
   "id": "f91ec969",
   "metadata": {},
   "outputs": [
    {
     "name": "stdout",
     "output_type": "stream",
     "text": [
      "x coordinate is:  10\n",
      "y coordinate is:  20\n",
      "z coordinate is:  30\n"
     ]
    }
   ],
   "source": [
    "coordinates = (10,20,30)\n",
    "x,y,z = coordinates\n",
    "print(\"x coordinate is: \",x)\n",
    "print(\"y coordinate is: \",y)\n",
    "print(\"z coordinate is: \",z)"
   ]
  },
  {
   "cell_type": "code",
   "execution_count": 17,
   "id": "4ea72569",
   "metadata": {},
   "outputs": [
    {
     "data": {
      "text/plain": [
       "[('A', 4), ('L', 2), ('M', 2), ('Y', 1)]"
      ]
     },
     "execution_count": 17,
     "metadata": {},
     "output_type": "execute_result"
    }
   ],
   "source": [
    "L1 = 'MALAYALAM'\n",
    "res = []\n",
    "\n",
    "for x in L1:\n",
    "    cnt = L1.count(x)\n",
    "    if (x,cnt) not in res:\n",
    "        res.append((x,cnt))\n",
    "        \n",
    "sorted(res)"
   ]
  },
  {
   "cell_type": "code",
   "execution_count": 3,
   "id": "0404c5f1",
   "metadata": {},
   "outputs": [
    {
     "name": "stdout",
     "output_type": "stream",
     "text": [
      "Median:  25.0\n"
     ]
    }
   ],
   "source": [
    "# Median\n",
    "\n",
    "arr = list(map(float,input(\"Enter the numbers with space: \").split()))\n",
    "arr.sort()\n",
    "length = len(arr)\n",
    "if length%2==0:\n",
    "    print(\"Median: \",(arr[length//2]+arr[(length//2)-1])/2)\n",
    "else:\n",
    "    print(\"Median: \",arr[length//2])    "
   ]
  }
 ],
 "metadata": {
  "kernelspec": {
   "display_name": "base",
   "language": "python",
   "name": "python3"
  },
  "language_info": {
   "codemirror_mode": {
    "name": "ipython",
    "version": 3
   },
   "file_extension": ".py",
   "mimetype": "text/x-python",
   "name": "python",
   "nbconvert_exporter": "python",
   "pygments_lexer": "ipython3",
   "version": "3.13.5"
  }
 },
 "nbformat": 4,
 "nbformat_minor": 5
}
