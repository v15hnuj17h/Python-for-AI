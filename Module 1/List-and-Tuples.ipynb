{
 "cells": [
  {
   "cell_type": "code",
   "execution_count": 2,
   "id": "ab3720b7",
   "metadata": {},
   "outputs": [
    {
     "data": {
      "text/plain": [
       "[1, 2, 3, 4, 5]"
      ]
     },
     "execution_count": 2,
     "metadata": {},
     "output_type": "execute_result"
    }
   ],
   "source": [
    "# A list is a data structure in Python that allows you to store an ordered collection of items.\n",
    "# Items can be of different data types (e.g., integers, strings, floats).\n",
    "# Lists are mutable, meaning their contents can be changed.\n",
    "\n",
    "my_list = [1,2,3,4,5]\n",
    "my_list"
   ]
  },
  {
   "cell_type": "code",
   "execution_count": 3,
   "id": "e3011f15",
   "metadata": {},
   "outputs": [
    {
     "name": "stdout",
     "output_type": "stream",
     "text": [
      "Empty List: []\n",
      "Integer List: [1, 2, 3, 4, 5]\n",
      "String List: ['apple', 'banana', 'cherry']\n",
      "Mixed List: [1, 'hello', 3.14, True]\n"
     ]
    }
   ],
   "source": [
    "# Empty list\n",
    "empty_list = []\n",
    "print(\"Empty List:\", empty_list)\n",
    "\n",
    "# List of integers\n",
    "int_list = [1, 2, 3, 4, 5]\n",
    "print(\"Integer List:\", int_list)\n",
    "\n",
    "# List of strings\n",
    "string_list = [\"apple\", \"banana\", \"cherry\"]\n",
    "print(\"String List:\", string_list)\n",
    "\n",
    "# Mixed data types\n",
    "mixed_list = [1, \"hello\", 3.14, True]\n",
    "print(\"Mixed List:\", mixed_list)"
   ]
  },
  {
   "cell_type": "code",
   "execution_count": 4,
   "id": "2da6c6b5",
   "metadata": {},
   "outputs": [
    {
     "name": "stdout",
     "output_type": "stream",
     "text": [
      "First element: apple\n",
      "Last element: cherry\n",
      "First two elements: ['apple', 'banana']\n"
     ]
    }
   ],
   "source": [
    "# Acessing a list\n",
    "\n",
    "# Example list\n",
    "fruits = [\"apple\", \"banana\", \"cherry\"]\n",
    "\n",
    "# Access first element\n",
    "print(\"First element:\", fruits[0])\n",
    "\n",
    "# Access last element\n",
    "print(\"Last element:\", fruits[-1])\n",
    "\n",
    "# Access a range of elements\n",
    "print(\"First two elements:\", fruits[:2])"
   ]
  },
  {
   "cell_type": "code",
   "execution_count": null,
   "id": "f5a1b9dd",
   "metadata": {},
   "outputs": [
    {
     "name": "stdout",
     "output_type": "stream",
     "text": [
      "List: [6, 5, 4, 3, 2, 1]\n",
      "List after appending: [6, 5, 4, 3, 2, 1, 0]\n",
      "List after insertion: [7, 6, 5, 4, 3, 2, 1, 0]\n",
      "List after removing: [6, 5, 4, 3, 2, 1, 0]\n",
      "List after popping: [6, 5, 4, 3, 2, 1]\n"
     ]
    }
   ],
   "source": [
    "# List Modification\n",
    "\n",
    "list = [6,5,4,3,2,1]\n",
    "print(\"List:\",list)\n",
    "\n",
    "list.append(0)\n",
    "print(\"List after appending:\",list)\n",
    "\n",
    "list.insert(0,7)\n",
    "print(\"List after insertion:\",list)\n",
    "\n",
    "list.remove(7)\n",
    "print(\"List after removing:\",list)\n",
    "\n",
    "list.pop()\n",
    "print(\"List after popping:\",list)"
   ]
  },
  {
   "cell_type": "code",
   "execution_count": null,
   "id": "cbed16d0",
   "metadata": {},
   "outputs": [
    {
     "name": "stdout",
     "output_type": "stream",
     "text": [
      "Length os list is 3\n",
      "True\n",
      "Concatinated list: ['a', 'b', 'c', 1, 2, 3]\n",
      "['a', 'b', 'c', 1, 2, 3, 'a', 'b', 'c', 1, 2, 3, 'a', 'b', 'c', 1, 2, 3]\n",
      "a\n",
      "b\n",
      "c\n"
     ]
    }
   ],
   "source": [
    "# List operation \n",
    "\n",
    "list = [\"a\",\"b\",\"c\"]\n",
    "\n",
    "print(\"Length os list is\",len(list))\n",
    "\n",
    "print(\"a\" in list)\n",
    "\n",
    "list2 = [1,2,3]\n",
    "concatinated = list + list2\n",
    "print(\"Concatinated list:\",concatinated)\n",
    "\n",
    "print(concatinated*3)\n",
    "\n",
    "for x in concatinated[:3]: #iteration\n",
    "    print(x)\n"
   ]
  },
  {
   "cell_type": "code",
   "execution_count": 23,
   "id": "4f910939",
   "metadata": {},
   "outputs": [
    {
     "name": "stdout",
     "output_type": "stream",
     "text": [
      "[[1, 2, 3], [4, 5, 6], [7, 8, 9]]\n",
      "First row---- [1, 2, 3]\n",
      "Element at (2,2)---- 5\n"
     ]
    }
   ],
   "source": [
    "# Nested List\n",
    "\n",
    "matrix = [[1,2,3],[4,5,6],[7,8,9]]\n",
    "print(matrix)\n",
    "\n",
    "#First row\n",
    "print(\"First row----\",matrix[0])\n",
    "\n",
    "#Element at (2,2)\n",
    "print(\"Element at (2,2)----\",matrix[1][1])"
   ]
  },
  {
   "cell_type": "code",
   "execution_count": 31,
   "id": "019f4029",
   "metadata": {},
   "outputs": [
    {
     "name": "stdout",
     "output_type": "stream",
     "text": [
      "[0, 2, 2, 4, 4, 5, 7]\n",
      "[7, 5, 4, 4, 2, 2, 0]\n"
     ]
    }
   ],
   "source": [
    "a = [4,2,7,5,4,2,0]\n",
    "a.sort()\n",
    "print(a)\n",
    "a.reverse()\n",
    "print(a)"
   ]
  },
  {
   "cell_type": "code",
   "execution_count": 2,
   "id": "556f72bd",
   "metadata": {},
   "outputs": [
    {
     "name": "stdout",
     "output_type": "stream",
     "text": [
      "Sorted list: [10, 20, 30, 40, 50]\n",
      "Sum: 150\n",
      "Mean: 30.0\n",
      "Maximum: 50\n",
      "Minimum: 10\n"
     ]
    }
   ],
   "source": [
    "# Example list\n",
    "numbers = [50, 20, 10, 40, 30]\n",
    "\n",
    "# Sorting of a list\n",
    "sort = sorted(numbers)\n",
    "print(\"Sorted list:\",sort)\n",
    "\n",
    "# Sum of the list\n",
    "total_sum = sum(numbers)\n",
    "print(\"Sum:\", total_sum)\n",
    "\n",
    "# Mean of the list\n",
    "mean = total_sum / len(numbers) # Calculate mean manually\n",
    "print(\"Mean:\", mean)\n",
    "\n",
    "# Maximum value in the list\n",
    "maximum = max(numbers)\n",
    "print(\"Maximum:\", maximum)\n",
    "\n",
    "# Minimum value in the list\n",
    "minimum = min(numbers)\n",
    "print(\"Minimum:\", minimum)"
   ]
  },
  {
   "cell_type": "code",
   "execution_count": null,
   "id": "9306e7f3",
   "metadata": {},
   "outputs": [],
   "source": []
  }
 ],
 "metadata": {
  "kernelspec": {
   "display_name": "base",
   "language": "python",
   "name": "python3"
  },
  "language_info": {
   "codemirror_mode": {
    "name": "ipython",
    "version": 3
   },
   "file_extension": ".py",
   "mimetype": "text/x-python",
   "name": "python",
   "nbconvert_exporter": "python",
   "pygments_lexer": "ipython3",
   "version": "3.13.5"
  }
 },
 "nbformat": 4,
 "nbformat_minor": 5
}
