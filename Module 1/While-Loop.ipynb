{
 "cells": [
  {
   "cell_type": "code",
   "execution_count": 5,
   "id": "9235d018",
   "metadata": {},
   "outputs": [
    {
     "name": "stdout",
     "output_type": "stream",
     "text": [
      "Hello, Vishnujith!\n",
      "Hello, Devadas!\n",
      "Hello, Vaishnav!\n",
      "Hello, Athul!\n",
      "Hello, Kuttan!\n"
     ]
    }
   ],
   "source": [
    "# Infinite loop that exits when a condition is met\n",
    "\n",
    "while True:\n",
    "    name = input(\"Enter your name (type 'exit' to stop): \")\n",
    "    if name == 'exit':\n",
    "        break\n",
    "    print(f\"Hello, {name}!\")"
   ]
  },
  {
   "cell_type": "code",
   "execution_count": null,
   "id": "42118ba2",
   "metadata": {},
   "outputs": [
    {
     "name": "stdout",
     "output_type": "stream",
     "text": [
      "1\n",
      "3\n",
      "5\n",
      "7\n",
      "9\n"
     ]
    }
   ],
   "source": [
    "# Initialize a variable\n",
    "\n",
    "number = 0\n",
    "while number < 10:# While loop to iterate up to 10\n",
    "    number += 1 # Increment the number\n",
    "    if number % 2 == 0: # Check if the number is even\n",
    "        continue # Skip the even numbers\n",
    "    print(number) # Print only odd numbers"
   ]
  },
  {
   "cell_type": "code",
   "execution_count": 8,
   "id": "f2dbc99e",
   "metadata": {},
   "outputs": [
    {
     "name": "stdout",
     "output_type": "stream",
     "text": [
      "\n",
      "--- Menu ---\n",
      "1. Add\n",
      "2. Subtract\n",
      "3. Multiply\n",
      "4. Divide\n",
      "5. Exit\n",
      "Division by zero is not allowed.\n",
      "\n",
      "--- Menu ---\n",
      "1. Add\n",
      "2. Subtract\n",
      "3. Multiply\n",
      "4. Divide\n",
      "5. Exit\n",
      "Exiting the calculator...\n"
     ]
    }
   ],
   "source": [
    "# Menu-driven calculator\n",
    "\n",
    "while True:\n",
    "    print(\"\\n--- Menu ---\")\n",
    "    print(\"1. Add\")\n",
    "    print(\"2. Subtract\")\n",
    "    print(\"3. Multiply\")\n",
    "    print(\"4. Divide\")\n",
    "    print(\"5. Exit\")\n",
    "    choice = input(\"Enter your choice (1-5): \")\n",
    "    # Exit condition\n",
    "    if choice == '5':\n",
    "        print(\"Exiting the calculator...\")\n",
    "        break\n",
    "    # Ask for input numbers\n",
    "    num1 = float(input(\"Enter the first number: \"))\n",
    "    num2 = float(input(\"Enter the second number: \"))\n",
    "    # Perform the selected operation\n",
    "    if choice == '1':\n",
    "        result = num1 + num2\n",
    "        print(f\"Result: {num1} + {num2} = {result}\")\n",
    "    elif choice == '2':\n",
    "        result = num1 - num2\n",
    "        print(f\"Result: {num1} - {num2} = {result}\")\n",
    "    elif choice == '3':\n",
    "        result = num1 * num2\n",
    "        print(f\"Result: {num1} * {num2} = {result}\")\n",
    "    elif choice == '4':\n",
    "        if num2 != 0:\n",
    "            result = num1 / num2\n",
    "            print(f\"Result: {num1} / {num2} = {result}\")\n",
    "        else:\n",
    "            print(\"Division by zero is not allowed.\")\n",
    "    else:\n",
    "        print(\"Invalid choice, please try again.\")"
   ]
  },
  {
   "cell_type": "code",
   "execution_count": 10,
   "id": "1e283a30",
   "metadata": {},
   "outputs": [
    {
     "name": "stdout",
     "output_type": "stream",
     "text": [
      "Number of digits: 8\n"
     ]
    }
   ],
   "source": [
    "# Python program to find the number of digits in a number using a while loop\n",
    "\n",
    "num = int(input(\"Enter a number: \"))\n",
    "count = 0\n",
    "while num != 0:\n",
    "    num = num // 10 # Remove the last digit\n",
    "    count += 1 # Increment the digit count\n",
    "print(f\"Number of digits: {count}\")"
   ]
  },
  {
   "cell_type": "code",
   "execution_count": 11,
   "id": "5c33b17e",
   "metadata": {},
   "outputs": [
    {
     "name": "stdout",
     "output_type": "stream",
     "text": [
      "Reversed Number: 654321\n"
     ]
    }
   ],
   "source": [
    "# Python program to reverse a number using a while loop\n",
    "\n",
    "num = int(input(\"Enter a number: \"))\n",
    "reverse_num = 0\n",
    "while num > 0:\n",
    "    remainder = num % 10 # Get the last digit\n",
    "    reverse_num = reverse_num * 10 + remainder # Shift current reverse_num and add the last digit\n",
    "    num = num // 10 # Remove the last digit from num\n",
    "print(f\"Reversed Number: {reverse_num}\")"
   ]
  },
  {
   "cell_type": "code",
   "execution_count": 12,
   "id": "bf622143",
   "metadata": {},
   "outputs": [
    {
     "name": "stdout",
     "output_type": "stream",
     "text": [
      "4567 is not a palindrome.\n"
     ]
    }
   ],
   "source": [
    "# Python program to check if a number is palindrome using a while loop\n",
    "\n",
    "num = int(input(\"Enter a number: \"))\n",
    "original_num = num # Store the original number\n",
    "reverse_num = 0\n",
    "while num > 0:\n",
    "    remainder = num % 10 # Get the last digit\n",
    "    reverse_num = reverse_num * 10 + remainder # Build the reverse number\n",
    "    num = num // 10 # Remove the last digit\n",
    "# Check if the original number and the reversed number are the same\n",
    "if original_num == reverse_num:\n",
    "    print(f\"{original_num} is a palindrome.\")\n",
    "else:\n",
    "    print(f\"{original_num} is not a palindrome.\")"
   ]
  },
  {
   "cell_type": "code",
   "execution_count": 15,
   "id": "a50c40e2",
   "metadata": {},
   "outputs": [
    {
     "name": "stdout",
     "output_type": "stream",
     "text": [
      "55 is high!\n",
      "20 is high!\n",
      "20 is high!\n",
      "10 is high!\n",
      "5 is high!\n",
      "Congratulations! You guessed the number: 2\n"
     ]
    }
   ],
   "source": [
    "import random\n",
    "\n",
    "secret_number = random.randint(1, 100)\n",
    "#print(secret_number)\n",
    "guess = None\n",
    "while guess != secret_number:\n",
    "    guess = int(input(\"Guess the number (between 1 and 100): \"))\n",
    "    if guess < secret_number:\n",
    "        print(guess,\"is low!\")\n",
    "        continue\n",
    "    elif guess > secret_number:\n",
    "        print(guess,\"is high!\")\n",
    "        continue\n",
    "    print(f\"Congratulations! You guessed the number: {secret_number}\")"
   ]
  }
 ],
 "metadata": {
  "kernelspec": {
   "display_name": "base",
   "language": "python",
   "name": "python3"
  },
  "language_info": {
   "codemirror_mode": {
    "name": "ipython",
    "version": 3
   },
   "file_extension": ".py",
   "mimetype": "text/x-python",
   "name": "python",
   "nbconvert_exporter": "python",
   "pygments_lexer": "ipython3",
   "version": "3.13.5"
  }
 },
 "nbformat": 4,
 "nbformat_minor": 5
}
