{
 "cells": [
  {
   "cell_type": "code",
   "execution_count": 1,
   "id": "9c5a7a1a",
   "metadata": {},
   "outputs": [],
   "source": [
    "# Creating and using variables\n",
    "\n",
    "x = 5  # Assign 5 to variable x\n",
    "y = \"Hello, World!\"  # Assign a string to variable y\n",
    "is_valid = True  # Assign a boolean value to variable is_valid\n",
    "f = 3.14  # Assign a float to variable z\n",
    "z = 3 + 4j  # Assign a complex number to variable z"
   ]
  },
  {
   "cell_type": "code",
   "execution_count": 4,
   "id": "04fb7ffe",
   "metadata": {},
   "outputs": [
    {
     "name": "stdout",
     "output_type": "stream",
     "text": [
      "Data Types: <class 'int'> <class 'float'> <class 'int'> <class 'str'>\n"
     ]
    }
   ],
   "source": [
    "# Type conversion\n",
    "\n",
    "x = 5  # Assign 5 to variable x\n",
    "y = 3.5  # Assign a float to variable y\n",
    "i = int(y)  # Convert string y to integer and assign to x\n",
    "s = str(x)  # Convert integer x to string and assign to s\n",
    "print(\"Data Types:\", type(x), type(y), type(i), type(s))"
   ]
  },
  {
   "cell_type": "code",
   "execution_count": 5,
   "id": "65ab99de",
   "metadata": {},
   "outputs": [
    {
     "name": "stdout",
     "output_type": "stream",
     "text": [
      "Square root of 16 is: 4.0\n",
      "Value of pi is: 3.141592653589793\n"
     ]
    }
   ],
   "source": [
    "# math module\n",
    "\n",
    "import math\n",
    "result = math.sqrt(16)  # Calculate square root of 16\n",
    "print(\"Square root of 16 is:\", result)\n",
    "pi = math.pi  # Get the value of pi\n",
    "print(\"Value of pi is:\", pi)"
   ]
  },
  {
   "cell_type": "code",
   "execution_count": 7,
   "id": "27722ade",
   "metadata": {},
   "outputs": [
    {
     "name": "stdout",
     "output_type": "stream",
     "text": [
      "Hello, vishnujith\n"
     ]
    }
   ],
   "source": [
    "# Input and Output\n",
    "\n",
    "name = input(\"Enter your name: \")\n",
    "print(\"Hello,\",name)"
   ]
  },
  {
   "cell_type": "code",
   "execution_count": null,
   "id": "05de59ce",
   "metadata": {},
   "outputs": [
    {
     "name": "stdout",
     "output_type": "stream",
     "text": [
      "I am 25 years old.\n"
     ]
    }
   ],
   "source": [
    "# Formatted string \n",
    "\n",
    "age = 18\n",
    "print(f\"I am {age} years old.\")"
   ]
  }
 ],
 "metadata": {
  "kernelspec": {
   "display_name": "base",
   "language": "python",
   "name": "python3"
  },
  "language_info": {
   "codemirror_mode": {
    "name": "ipython",
    "version": 3
   },
   "file_extension": ".py",
   "mimetype": "text/x-python",
   "name": "python",
   "nbconvert_exporter": "python",
   "pygments_lexer": "ipython3",
   "version": "3.13.5"
  }
 },
 "nbformat": 4,
 "nbformat_minor": 5
}
