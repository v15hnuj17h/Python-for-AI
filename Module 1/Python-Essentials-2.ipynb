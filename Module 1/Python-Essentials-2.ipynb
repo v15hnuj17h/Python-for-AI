{
 "cells": [
  {
   "cell_type": "code",
   "execution_count": 1,
   "id": "f4a9d1c2",
   "metadata": {},
   "outputs": [
    {
     "name": "stdout",
     "output_type": "stream",
     "text": [
      "Hello, World!\n"
     ]
    }
   ],
   "source": [
    "print(\"Hello, World!\")"
   ]
  },
  {
   "cell_type": "code",
   "execution_count": 2,
   "id": "3f78cc00",
   "metadata": {},
   "outputs": [
    {
     "name": "stdout",
     "output_type": "stream",
     "text": [
      "42\n"
     ]
    }
   ],
   "source": [
    "print(42)"
   ]
  },
  {
   "cell_type": "code",
   "execution_count": 3,
   "id": "6f264dd0",
   "metadata": {},
   "outputs": [
    {
     "name": "stdout",
     "output_type": "stream",
     "text": [
      "5.0\n"
     ]
    }
   ],
   "source": [
    "print(2+3/1%6**2)"
   ]
  },
  {
   "cell_type": "code",
   "execution_count": 4,
   "id": "36547c97",
   "metadata": {},
   "outputs": [
    {
     "name": "stdout",
     "output_type": "stream",
     "text": [
      "<class 'str'> <class 'int'> <class 'float'> <class 'bool'>\n"
     ]
    }
   ],
   "source": [
    "name=\"Vishnujith\"\n",
    "age=18\n",
    "height=5.7\n",
    "is_student=True\n",
    "print(type(name), type(age), type(height), type(is_student))"
   ]
  },
  {
   "cell_type": "code",
   "execution_count": 1,
   "id": "8d69a055",
   "metadata": {},
   "outputs": [
    {
     "name": "stdout",
     "output_type": "stream",
     "text": [
      "Hello Vishnujith, you are 19 years old.\n"
     ]
    }
   ],
   "source": [
    "name=input(\"Enter your name: \")\n",
    "age=int(input(\"Enter your age: \"))\n",
    "print(f\"Hello {name}, you are {age} years old.\")"
   ]
  },
  {
   "cell_type": "code",
   "execution_count": 4,
   "id": "b3906738",
   "metadata": {},
   "outputs": [
    {
     "name": "stdout",
     "output_type": "stream",
     "text": [
      "<class 'float'> 10.5\n"
     ]
    }
   ],
   "source": [
    "a=\"10.5\"\n",
    "a= float(a)\n",
    "print(type(a),a)"
   ]
  },
  {
   "cell_type": "code",
   "execution_count": null,
   "id": "dc2d7325",
   "metadata": {},
   "outputs": [],
   "source": [
    "# 1. Use print() to display output.\n",
    "# 2. Variables store values and can be changed during the program’s execution.\n",
    "# 3. Python automatically assigns data types, but you can convert input data when necessary.\n",
    "# 4. Use input() to get user input, and convert it to the correct type if required."
   ]
  },
  {
   "cell_type": "code",
   "execution_count": null,
   "id": "0faa4750",
   "metadata": {},
   "outputs": [],
   "source": [
    "#Variables\n",
    "\n",
    "my_variable = \"Vishnujith\"\n",
    "PI = 3.1415\n",
    "age2 = 18\n",
    "_name = True\n"
   ]
  },
  {
   "cell_type": "code",
   "execution_count": 7,
   "id": "95fd8f65",
   "metadata": {},
   "outputs": [
    {
     "name": "stdout",
     "output_type": "stream",
     "text": [
      "Area = 60.0\n"
     ]
    }
   ],
   "source": [
    "length = float(input(\"Enter the length of the rectangle: \"))\n",
    "width = float (input(\"Enter the width of rectangle: \"))\n",
    "print(\"Area =\",length*width)"
   ]
  },
  {
   "cell_type": "code",
   "execution_count": 8,
   "id": "787fc153",
   "metadata": {},
   "outputs": [
    {
     "name": "stdout",
     "output_type": "stream",
     "text": [
      "Average = 3.33\n"
     ]
    }
   ],
   "source": [
    "#Average of three numbers\n",
    "\n",
    "a = float(input(\"Enter first number: \"))\n",
    "b = float(input(\"Enter second number: \"))\n",
    "c = float(input(\"Enter third number: \"))\n",
    "average = (a + b + c) / 3\n",
    "print(f\"Average = {average:0.2f}\")"
   ]
  }
 ],
 "metadata": {
  "kernelspec": {
   "display_name": "base",
   "language": "python",
   "name": "python3"
  },
  "language_info": {
   "codemirror_mode": {
    "name": "ipython",
    "version": 3
   },
   "file_extension": ".py",
   "mimetype": "text/x-python",
   "name": "python",
   "nbconvert_exporter": "python",
   "pygments_lexer": "ipython3",
   "version": "3.13.5"
  }
 },
 "nbformat": 4,
 "nbformat_minor": 5
}
