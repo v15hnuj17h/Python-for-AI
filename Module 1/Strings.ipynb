{
 "cells": [
  {
   "cell_type": "code",
   "execution_count": null,
   "id": "695fd9a6",
   "metadata": {},
   "outputs": [],
   "source": [
    "#Use quational mark for defining string\n",
    "\n",
    "\"Vishnujith\""
   ]
  },
  {
   "cell_type": "code",
   "execution_count": null,
   "id": "e8fd2f3e",
   "metadata": {},
   "outputs": [],
   "source": [
    "#Or use single quatational marks\n",
    "\n",
    "'Vishnujith'"
   ]
  },
  {
   "cell_type": "code",
   "execution_count": 1,
   "id": "2375ce4d",
   "metadata": {},
   "outputs": [
    {
     "data": {
      "text/plain": [
       "'!@#$%^&*()_=-+?.,;'"
      ]
     },
     "execution_count": 1,
     "metadata": {},
     "output_type": "execute_result"
    }
   ],
   "source": [
    "'0 1 2 3 4 5 6 '\n",
    "\n",
    "'!@#$%^&*()_=-+?.,;'"
   ]
  },
  {
   "cell_type": "code",
   "execution_count": 2,
   "id": "2473d50b",
   "metadata": {},
   "outputs": [
    {
     "data": {
      "text/plain": [
       "'Vishnujith A'"
      ]
     },
     "execution_count": 2,
     "metadata": {},
     "output_type": "execute_result"
    }
   ],
   "source": [
    "name = 'Vishnujith A'\n",
    "name"
   ]
  },
  {
   "cell_type": "code",
   "execution_count": null,
   "id": "e72cf181",
   "metadata": {},
   "outputs": [
    {
     "data": {
      "text/plain": [
       "'Z'"
      ]
     },
     "execution_count": 11,
     "metadata": {},
     "output_type": "execute_result"
    }
   ],
   "source": [
    "name = \"ABCDEFGHIJKLMNOPQRSTUVWXYZ\"\n",
    "name[25]\n",
    "name[0]\n",
    "name[1:5] #Slicing\n",
    "name[:len(name)]\n",
    "name[13:]\n",
    "name[6:16:2] #Striding\n",
    "name[::-1]\n",
    "name[-1]"
   ]
  },
  {
   "cell_type": "code",
   "execution_count": 12,
   "id": "800c8bda",
   "metadata": {},
   "outputs": [
    {
     "name": "stdout",
     "output_type": "stream",
     "text": [
      "10\n"
     ]
    }
   ],
   "source": [
    "name='vishnujith'\n",
    "print(len(name))"
   ]
  },
  {
   "cell_type": "code",
   "execution_count": null,
   "id": "717d72c9",
   "metadata": {},
   "outputs": [
    {
     "name": "stdout",
     "output_type": "stream",
     "text": [
      "gnirts a si sihT\n"
     ]
    }
   ],
   "source": [
    "#String reversal\n",
    "\n",
    "str = \"This is a string\"\n",
    "print(str[::-1])"
   ]
  },
  {
   "cell_type": "code",
   "execution_count": 14,
   "id": "65b96ff0",
   "metadata": {},
   "outputs": [
    {
     "name": "stdout",
     "output_type": "stream",
     "text": [
      "gnirts a si sihT"
     ]
    }
   ],
   "source": [
    "#String reversal\n",
    "\n",
    "str = \"This is a string\"\n",
    "for index in range (len(str)-1,-1,-1):\n",
    "    print(str[index],end=\"\")\n",
    "    "
   ]
  },
  {
   "cell_type": "code",
   "execution_count": 15,
   "id": "bf66865a",
   "metadata": {},
   "outputs": [
    {
     "name": "stdout",
     "output_type": "stream",
     "text": [
      "gnirts a si sihT\n"
     ]
    }
   ],
   "source": [
    "#String reversal\n",
    "\n",
    "str = \"This is a string\"\n",
    "rev_str=''\n",
    "for index in range(len(str)-1,-1,-1):\n",
    "    rev_str+=str[index]\n",
    "print(rev_str)\n"
   ]
  },
  {
   "cell_type": "code",
   "execution_count": 4,
   "id": "b0c91b61",
   "metadata": {},
   "outputs": [
    {
     "name": "stdout",
     "output_type": "stream",
     "text": [
      "Is paliendrome\n"
     ]
    }
   ],
   "source": [
    "#check paliendrome\n",
    "\n",
    "str = input(\"Enter a string to check: \")\n",
    "rev_str = str[::-1]\n",
    "if str==rev_str:\n",
    "    print(\"Is paliendrome\")\n",
    "else:\n",
    "    print(\"Not paliendrome\")"
   ]
  },
  {
   "cell_type": "code",
   "execution_count": 7,
   "id": "c32a1ad9",
   "metadata": {},
   "outputs": [
    {
     "name": "stdout",
     "output_type": "stream",
     "text": [
      "I love coding\n",
      "I love I love I love coding\n"
     ]
    }
   ],
   "source": [
    "#Concatenation\n",
    "\n",
    "A = \"I love \"\n",
    "B = \"coding\"\n",
    "print(A+B)\n",
    "print(3*A+B)"
   ]
  },
  {
   "cell_type": "code",
   "execution_count": 13,
   "id": "90f514fa",
   "metadata": {},
   "outputs": [
    {
     "name": "stdout",
     "output_type": "stream",
     "text": [
      "Bleeding is easy\n",
      "Sweting isn't.\n",
      "Past is a book, \t...learn from it.\n",
      "Do\\Die\n",
      "Hate me\\Hate me more\n"
     ]
    }
   ],
   "source": [
    "# Escape Sequences\n",
    "\n",
    "print(\"Bleeding is easy\\nSweting isn't.\")\n",
    "print(\"Past is a book, \\t...learn from it.\")\n",
    "print(\"Do\\\\Die\")\n",
    "print(r\"Hate me\\Hate me more\")"
   ]
  },
  {
   "cell_type": "code",
   "execution_count": null,
   "id": "ebb29b6f",
   "metadata": {},
   "outputs": [
    {
     "data": {
      "text/plain": [
       "'Hii there'"
      ]
     },
     "execution_count": 30,
     "metadata": {},
     "output_type": "execute_result"
    }
   ],
   "source": [
    "#String operations\n",
    "\n",
    "s = 'Hey there'\n",
    "s\n",
    "s.upper()\n",
    "s.lower()\n",
    "s.count(\"e\")\n",
    "s.center(15)\n",
    "s.find(\"H\")\n",
    "s.startswith(\"Hey\")\n",
    "s.endswith(\"Hey\")\n",
    "s.isalpha()\n",
    "k=s.replace(\"Hey\",\"Hii\")\n",
    "k\n"
   ]
  },
  {
   "cell_type": "code",
   "execution_count": 27,
   "id": "8344e055",
   "metadata": {},
   "outputs": [
    {
     "data": {
      "text/plain": [
       "True"
      ]
     },
     "execution_count": 27,
     "metadata": {},
     "output_type": "execute_result"
    }
   ],
   "source": [
    "\"365\".isdigit()"
   ]
  },
  {
   "cell_type": "code",
   "execution_count": 28,
   "id": "40029f17",
   "metadata": {},
   "outputs": [
    {
     "data": {
      "text/plain": [
       "True"
      ]
     },
     "execution_count": 28,
     "metadata": {},
     "output_type": "execute_result"
    }
   ],
   "source": [
    "str='heythere'\n",
    "str.isalpha()"
   ]
  },
  {
   "cell_type": "code",
   "execution_count": 34,
   "id": "128c06bd",
   "metadata": {},
   "outputs": [
    {
     "data": {
      "text/plain": [
       "'Hello-Mf,-Im-backk-!!!'"
      ]
     },
     "execution_count": 34,
     "metadata": {},
     "output_type": "execute_result"
    }
   ],
   "source": [
    "s = \"Hello Mf, Im backk !!!\"\n",
    "words = s.split()\n",
    "words\n",
    "\"-\".join(words)"
   ]
  },
  {
   "cell_type": "code",
   "execution_count": null,
   "id": "c41ac987",
   "metadata": {},
   "outputs": [
    {
     "name": "stdout",
     "output_type": "stream",
     "text": [
      "note.txt\n",
      "Coding.txt\n"
     ]
    }
   ],
   "source": [
    "filelist=[\"Note.txt\", \"Coding.txt\",\"First.py\"]\n",
    "for filename in filelist:\n",
    "    if \".txt\" in filename:\n",
    "        print(filename)"
   ]
  },
  {
   "cell_type": "code",
   "execution_count": 39,
   "id": "386aae2e",
   "metadata": {},
   "outputs": [
    {
     "name": "stdout",
     "output_type": "stream",
     "text": [
      "Number of words is:  6\n",
      "Average number of letters in each word is :  5.166666666666667\n"
     ]
    }
   ],
   "source": [
    "sentance = \"Hello everyone my name is Vishnujith\"\n",
    "words = sentance.split()\n",
    "print(\"Number of words is: \",len(words))\n",
    "sum=0\n",
    "for word in words:\n",
    "    sum+=len(word)\n",
    "print(\"Average number of letters in each word is : \",sum/len(words))\n",
    "    "
   ]
  },
  {
   "cell_type": "code",
   "execution_count": 40,
   "id": "360ba139",
   "metadata": {},
   "outputs": [
    {
     "name": "stdout",
     "output_type": "stream",
     "text": [
      "Quotient Remainder Binary\n"
     ]
    },
    {
     "ename": "TypeError",
     "evalue": "'str' object is not callable",
     "output_type": "error",
     "traceback": [
      "\u001b[31m---------------------------------------------------------------------------\u001b[39m",
      "\u001b[31mTypeError\u001b[39m                                 Traceback (most recent call last)",
      "\u001b[36mCell\u001b[39m\u001b[36m \u001b[39m\u001b[32mIn[40]\u001b[39m\u001b[32m, line 12\u001b[39m\n\u001b[32m     10\u001b[39m     remainder = decimal % \u001b[32m2\u001b[39m\n\u001b[32m     11\u001b[39m     decimal = decimal // \u001b[32m2\u001b[39m\n\u001b[32m---> \u001b[39m\u001b[32m12\u001b[39m     bstring = \u001b[38;5;28;43mstr\u001b[39;49m\u001b[43m(\u001b[49m\u001b[43mremainder\u001b[49m\u001b[43m)\u001b[49m + bstring\n\u001b[32m     13\u001b[39m     \u001b[38;5;28mprint\u001b[39m(\u001b[33m\"\u001b[39m\u001b[38;5;132;01m%5d\u001b[39;00m\u001b[38;5;132;01m%8d\u001b[39;00m\u001b[38;5;132;01m%12s\u001b[39;00m\u001b[33m\"\u001b[39m % (decimal, remainder, bstring))\n\u001b[32m     14\u001b[39m \u001b[38;5;28mprint\u001b[39m(\u001b[33m\"\u001b[39m\u001b[33mThe binary representation is\u001b[39m\u001b[33m\"\u001b[39m, bstring)\n",
      "\u001b[31mTypeError\u001b[39m: 'str' object is not callable"
     ]
    }
   ],
   "source": [
    "#Converts a decimal integer to a binary string.\n",
    "\n",
    "decimal = int(input(\"Enter a decimal integer: \"))\n",
    "if decimal == 0:\n",
    "    print(0)\n",
    "else:\n",
    "    print(\"Quotient Remainder Binary\")\n",
    "    bstring = \"\"\n",
    "    while decimal > 0:\n",
    "        remainder = decimal % 2\n",
    "        decimal = decimal // 2\n",
    "        bstring = str(remainder) + bstring\n",
    "        print(\"%5d%8d%12s\" % (decimal, remainder, bstring))\n",
    "    print(\"The binary representation is\", bstring)"
   ]
  }
 ],
 "metadata": {
  "kernelspec": {
   "display_name": "base",
   "language": "python",
   "name": "python3"
  },
  "language_info": {
   "codemirror_mode": {
    "name": "ipython",
    "version": 3
   },
   "file_extension": ".py",
   "mimetype": "text/x-python",
   "name": "python",
   "nbconvert_exporter": "python",
   "pygments_lexer": "ipython3",
   "version": "3.13.5"
  }
 },
 "nbformat": 4,
 "nbformat_minor": 5
}
