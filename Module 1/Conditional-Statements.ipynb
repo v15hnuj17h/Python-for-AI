{
 "cells": [
  {
   "cell_type": "code",
   "execution_count": 5,
   "id": "a952b531",
   "metadata": {},
   "outputs": [
    {
     "name": "stdout",
     "output_type": "stream",
     "text": [
      "92.0\n"
     ]
    }
   ],
   "source": [
    "num1 = float(input(\"Enter number-1: \"))\n",
    "num2 = float(input(\"Enter number-2\"))\n",
    "operator = input(\"Enter the operator (+,-,*,/,%): \")\n",
    "if operator == \"+\":\n",
    "    print(num1+num2)\n",
    "elif operator == \"-\":\n",
    "    print(num1-num2)\n",
    "elif operator == \"*\":\n",
    "    print(nu1*num2)\n",
    "elif operator == \"/\":\n",
    "    if num2 == 0.0:\n",
    "        print(\"Division by zero not possible!\")\n",
    "    else:\n",
    "        print(num1/num2)\n",
    "elif operator == \"%\":\n",
    "    print(num1%num2)\n",
    "else:\n",
    "    print(\"Wrong operator\")"
   ]
  }
 ],
 "metadata": {
  "kernelspec": {
   "display_name": "base",
   "language": "python",
   "name": "python3"
  },
  "language_info": {
   "codemirror_mode": {
    "name": "ipython",
    "version": 3
   },
   "file_extension": ".py",
   "mimetype": "text/x-python",
   "name": "python",
   "nbconvert_exporter": "python",
   "pygments_lexer": "ipython3",
   "version": "3.13.5"
  }
 },
 "nbformat": 4,
 "nbformat_minor": 5
}
